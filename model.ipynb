{
 "cells": [
  {
   "cell_type": "code",
   "execution_count": 1,
   "id": "4c5529dc-4deb-4152-8a18-422a52ee3096",
   "metadata": {
    "scrolled": true
   },
   "outputs": [
    {
     "name": "stdout",
     "output_type": "stream",
     "text": [
      "Requirement already satisfied: pandas in /home/wtl04/coding/snapsend/computer_vision/venv310/lib/python3.10/site-packages (from -r req.txt (line 1)) (2.3.0)\n",
      "Requirement already satisfied: numpy in /home/wtl04/coding/snapsend/computer_vision/venv310/lib/python3.10/site-packages (from -r req.txt (line 2)) (1.24.3)\n",
      "Requirement already satisfied: scikit-learn in /home/wtl04/coding/snapsend/computer_vision/venv310/lib/python3.10/site-packages (from -r req.txt (line 3)) (1.7.1)\n",
      "Requirement already satisfied: matplotlib in /home/wtl04/coding/snapsend/computer_vision/venv310/lib/python3.10/site-packages (from -r req.txt (line 4)) (3.10.3)\n",
      "Requirement already satisfied: python-dateutil>=2.8.2 in /home/wtl04/coding/snapsend/computer_vision/venv310/lib/python3.10/site-packages (from pandas->-r req.txt (line 1)) (2.9.0.post0)\n",
      "Requirement already satisfied: pytz>=2020.1 in /home/wtl04/coding/snapsend/computer_vision/venv310/lib/python3.10/site-packages (from pandas->-r req.txt (line 1)) (2025.2)\n",
      "Requirement already satisfied: tzdata>=2022.7 in /home/wtl04/coding/snapsend/computer_vision/venv310/lib/python3.10/site-packages (from pandas->-r req.txt (line 1)) (2025.2)\n",
      "Requirement already satisfied: scipy>=1.8.0 in /home/wtl04/coding/snapsend/computer_vision/venv310/lib/python3.10/site-packages (from scikit-learn->-r req.txt (line 3)) (1.15.3)\n",
      "Requirement already satisfied: joblib>=1.2.0 in /home/wtl04/coding/snapsend/computer_vision/venv310/lib/python3.10/site-packages (from scikit-learn->-r req.txt (line 3)) (1.5.1)\n",
      "Requirement already satisfied: threadpoolctl>=3.1.0 in /home/wtl04/coding/snapsend/computer_vision/venv310/lib/python3.10/site-packages (from scikit-learn->-r req.txt (line 3)) (3.6.0)\n",
      "Requirement already satisfied: contourpy>=1.0.1 in /home/wtl04/coding/snapsend/computer_vision/venv310/lib/python3.10/site-packages (from matplotlib->-r req.txt (line 4)) (1.3.2)\n",
      "Requirement already satisfied: cycler>=0.10 in /home/wtl04/coding/snapsend/computer_vision/venv310/lib/python3.10/site-packages (from matplotlib->-r req.txt (line 4)) (0.12.1)\n",
      "Requirement already satisfied: fonttools>=4.22.0 in /home/wtl04/coding/snapsend/computer_vision/venv310/lib/python3.10/site-packages (from matplotlib->-r req.txt (line 4)) (4.58.5)\n",
      "Requirement already satisfied: kiwisolver>=1.3.1 in /home/wtl04/coding/snapsend/computer_vision/venv310/lib/python3.10/site-packages (from matplotlib->-r req.txt (line 4)) (1.4.8)\n",
      "Requirement already satisfied: packaging>=20.0 in /home/wtl04/coding/snapsend/computer_vision/venv310/lib/python3.10/site-packages (from matplotlib->-r req.txt (line 4)) (25.0)\n",
      "Requirement already satisfied: pillow>=8 in /home/wtl04/coding/snapsend/computer_vision/venv310/lib/python3.10/site-packages (from matplotlib->-r req.txt (line 4)) (10.2.0)\n",
      "Requirement already satisfied: pyparsing>=2.3.1 in /home/wtl04/coding/snapsend/computer_vision/venv310/lib/python3.10/site-packages (from matplotlib->-r req.txt (line 4)) (3.2.3)\n",
      "Requirement already satisfied: six>=1.5 in /home/wtl04/coding/snapsend/computer_vision/venv310/lib/python3.10/site-packages (from python-dateutil>=2.8.2->pandas->-r req.txt (line 1)) (1.17.0)\n",
      "Note: you may need to restart the kernel to use updated packages.\n"
     ]
    }
   ],
   "source": [
    "%pip install -r req.txt"
   ]
  },
  {
   "cell_type": "code",
   "execution_count": 3,
   "id": "e1a88acb-ef00-49e1-b778-9ecd31ebeaba",
   "metadata": {},
   "outputs": [],
   "source": [
    "import pandas as pd \n",
    "import matplotlib.pyplot as plt\n",
    "import numpy as np"
   ]
  },
  {
   "cell_type": "code",
   "execution_count": 11,
   "id": "24872564-f36b-4424-a38b-1006b1d5549e",
   "metadata": {},
   "outputs": [
    {
     "name": "stdout",
     "output_type": "stream",
     "text": [
      "  model     dX     dY     dZ  now  Fwall  nowp    Farea  offset  \\\n",
      "0     0  330.0  254.0  508.0    1      1     1  71339.0       0   \n",
      "1     0  508.0  254.0  330.0    4      1     1   3913.0       0   \n",
      "2     0  508.0  254.0  330.0    4      1     1   3913.0       1   \n",
      "3     0  330.0  254.0  508.0    4      1     1  14000.0       0   \n",
      "4     0  330.0  254.0  508.0    4      1     1  14000.0       1   \n",
      "\n",
      "   maxoffset_bed  Wanother  maxoffset_anotherW  Wair  Wair_partial  \\\n",
      "0          254.0         0                 0.0     0             0   \n",
      "1            2.0         3               199.0     0             1   \n",
      "2            2.0         3               199.0     0             1   \n",
      "3           51.0         3               403.0     0             0   \n",
      "4           51.0         3               403.0     0             0   \n",
      "\n",
      "   max_support  needsupport  \n",
      "0          0.0            0  \n",
      "1          0.0            1  \n",
      "2          0.0            1  \n",
      "3          0.0            1  \n",
      "4          0.0            1  \n"
     ]
    }
   ],
   "source": [
    "dataframe = pd.read_csv(\"./datasets/Orientation-Based Analysis of 3D Printing Parameters and Quality Control/Orientation-Based Analysis of 3D Printing Parameters and Quality Control.csv\")\n",
    "print(dataframe.head(5))"
   ]
  },
  {
   "cell_type": "code",
   "execution_count": null,
   "id": "22981eca-4e42-4605-99af-8d3b52f74487",
   "metadata": {},
   "outputs": [],
   "source": []
  }
 ],
 "metadata": {
  "kernelspec": {
   "display_name": "Python (venv310)",
   "language": "python",
   "name": "venv310"
  },
  "language_info": {
   "codemirror_mode": {
    "name": "ipython",
    "version": 3
   },
   "file_extension": ".py",
   "mimetype": "text/x-python",
   "name": "python",
   "nbconvert_exporter": "python",
   "pygments_lexer": "ipython3",
   "version": "3.10.13"
  }
 },
 "nbformat": 4,
 "nbformat_minor": 5
}
