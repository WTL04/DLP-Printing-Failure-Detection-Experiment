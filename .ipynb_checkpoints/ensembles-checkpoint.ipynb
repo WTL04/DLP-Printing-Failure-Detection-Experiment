{
 "cells": [
  {
   "cell_type": "code",
   "execution_count": 1,
   "id": "fbe44aea-d427-4eef-bda4-e8f946d7ffe9",
   "metadata": {},
   "outputs": [
    {
     "name": "stdout",
     "output_type": "stream",
     "text": [
      "Requirement already satisfied: pandas in /home/wtl04/coding/snapsend/computer_vision/venv310/lib/python3.10/site-packages (from -r req.txt (line 1)) (2.3.0)\n",
      "Requirement already satisfied: numpy in /home/wtl04/coding/snapsend/computer_vision/venv310/lib/python3.10/site-packages (from -r req.txt (line 2)) (1.24.3)\n",
      "Requirement already satisfied: scikit-learn in /home/wtl04/coding/snapsend/computer_vision/venv310/lib/python3.10/site-packages (from -r req.txt (line 3)) (1.7.1)\n",
      "Requirement already satisfied: matplotlib in /home/wtl04/coding/snapsend/computer_vision/venv310/lib/python3.10/site-packages (from -r req.txt (line 4)) (3.10.3)\n",
      "Requirement already satisfied: seaborn in /home/wtl04/coding/snapsend/computer_vision/venv310/lib/python3.10/site-packages (from -r req.txt (line 5)) (0.13.2)\n",
      "Requirement already satisfied: python-dateutil>=2.8.2 in /home/wtl04/coding/snapsend/computer_vision/venv310/lib/python3.10/site-packages (from pandas->-r req.txt (line 1)) (2.9.0.post0)\n",
      "Requirement already satisfied: pytz>=2020.1 in /home/wtl04/coding/snapsend/computer_vision/venv310/lib/python3.10/site-packages (from pandas->-r req.txt (line 1)) (2025.2)\n",
      "Requirement already satisfied: tzdata>=2022.7 in /home/wtl04/coding/snapsend/computer_vision/venv310/lib/python3.10/site-packages (from pandas->-r req.txt (line 1)) (2025.2)\n",
      "Requirement already satisfied: scipy>=1.8.0 in /home/wtl04/coding/snapsend/computer_vision/venv310/lib/python3.10/site-packages (from scikit-learn->-r req.txt (line 3)) (1.15.3)\n",
      "Requirement already satisfied: joblib>=1.2.0 in /home/wtl04/coding/snapsend/computer_vision/venv310/lib/python3.10/site-packages (from scikit-learn->-r req.txt (line 3)) (1.5.1)\n",
      "Requirement already satisfied: threadpoolctl>=3.1.0 in /home/wtl04/coding/snapsend/computer_vision/venv310/lib/python3.10/site-packages (from scikit-learn->-r req.txt (line 3)) (3.6.0)\n",
      "Requirement already satisfied: contourpy>=1.0.1 in /home/wtl04/coding/snapsend/computer_vision/venv310/lib/python3.10/site-packages (from matplotlib->-r req.txt (line 4)) (1.3.2)\n",
      "Requirement already satisfied: cycler>=0.10 in /home/wtl04/coding/snapsend/computer_vision/venv310/lib/python3.10/site-packages (from matplotlib->-r req.txt (line 4)) (0.12.1)\n",
      "Requirement already satisfied: fonttools>=4.22.0 in /home/wtl04/coding/snapsend/computer_vision/venv310/lib/python3.10/site-packages (from matplotlib->-r req.txt (line 4)) (4.58.5)\n",
      "Requirement already satisfied: kiwisolver>=1.3.1 in /home/wtl04/coding/snapsend/computer_vision/venv310/lib/python3.10/site-packages (from matplotlib->-r req.txt (line 4)) (1.4.8)\n",
      "Requirement already satisfied: packaging>=20.0 in /home/wtl04/coding/snapsend/computer_vision/venv310/lib/python3.10/site-packages (from matplotlib->-r req.txt (line 4)) (25.0)\n",
      "Requirement already satisfied: pillow>=8 in /home/wtl04/coding/snapsend/computer_vision/venv310/lib/python3.10/site-packages (from matplotlib->-r req.txt (line 4)) (10.2.0)\n",
      "Requirement already satisfied: pyparsing>=2.3.1 in /home/wtl04/coding/snapsend/computer_vision/venv310/lib/python3.10/site-packages (from matplotlib->-r req.txt (line 4)) (3.2.3)\n",
      "Requirement already satisfied: six>=1.5 in /home/wtl04/coding/snapsend/computer_vision/venv310/lib/python3.10/site-packages (from python-dateutil>=2.8.2->pandas->-r req.txt (line 1)) (1.17.0)\n",
      "Note: you may need to restart the kernel to use updated packages.\n"
     ]
    }
   ],
   "source": [
    "%pip install -r req.txt"
   ]
  },
  {
   "cell_type": "code",
   "execution_count": null,
   "id": "5e0d7431-69d2-4e82-b6b5-c65fd8f3b1c5",
   "metadata": {},
   "outputs": [],
   "source": [
    "import pandas as pd\n",
    "import numpy as np\n",
    "import seaborn as sns\n",
    "import matplotlib.pyplot as plt\n",
    "\n",
    "# preprocessing\n",
    "from sklearn.preprocessing import StandardScaler\n",
    "from sklearn.model_selection import train_test_split, ParameterGrid, GridSearchCV\n",
    "\n",
    "# models\n",
    "\n",
    "\n",
    "# evaluation\n",
    "from sklearn.metrics import accuracy_score, classification_report, confusion_matrix, ConfusionMatrixDisplay\n"
   ]
  }
 ],
 "metadata": {
  "kernelspec": {
   "display_name": "Python (venv310)",
   "language": "python",
   "name": "venv310"
  },
  "language_info": {
   "codemirror_mode": {
    "name": "ipython",
    "version": 3
   },
   "file_extension": ".py",
   "mimetype": "text/x-python",
   "name": "python",
   "nbconvert_exporter": "python",
   "pygments_lexer": "ipython3",
   "version": "3.10.13"
  }
 },
 "nbformat": 4,
 "nbformat_minor": 5
}
